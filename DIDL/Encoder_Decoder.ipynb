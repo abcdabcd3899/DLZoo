{
  "nbformat": 4,
  "nbformat_minor": 0,
  "metadata": {
    "colab": {
      "name": "Encoder-Decoder.ipynb",
      "provenance": [],
      "collapsed_sections": []
    },
    "kernelspec": {
      "name": "python3",
      "display_name": "Python 3"
    },
    "language_info": {
      "name": "python"
    }
  },
  "cells": [
    {
      "cell_type": "code",
      "metadata": {
        "id": "lBN-cVzlxz9_"
      },
      "source": [
        "!pip install d2l"
      ],
      "execution_count": null,
      "outputs": []
    },
    {
      "cell_type": "markdown",
      "metadata": {
        "id": "CGkm1zXlMS7V"
      },
      "source": [
        "**1. 数据处理**"
      ]
    },
    {
      "cell_type": "code",
      "metadata": {
        "id": "R8RO_2yox4dA"
      },
      "source": [
        "import os\n",
        "import torch\n",
        "import torch.nn as nn\n",
        "from d2l import torch as d2l\n",
        "\n",
        "d2l.DATA_HUB['fra-eng'] = (d2l.DATA_URL + 'fra-eng.zip',\n",
        "                           '94646ad1522d915e7b0f9296181140edcf86a4f5')\n",
        "\n",
        "def read_data_nmt():\n",
        "    \"\"\"载入“英语－法语”数据集。\"\"\"\n",
        "    data_dir = d2l.download_extract('fra-eng')\n",
        "    with open(os.path.join(data_dir, 'fra.txt'), 'r') as f:\n",
        "        return f.read()\n",
        "\n",
        "raw_text = read_data_nmt()\n",
        "\n",
        "\n",
        "def preprocess_nmt(text):\n",
        "    \"\"\"预处理“英语－法语”数据集。\"\"\"\n",
        "    def no_space(char, prev_char):\n",
        "        return char in set(',.!?') and prev_char != ' '\n",
        "\n",
        "    # 使用空格替换不间断空格\n",
        "    # 使用小写字母替换大写字母\n",
        "    text = text.replace('\\u202f', ' ').replace('\\xa0', ' ').lower()\n",
        "    # 在单词和标点符号之间插入空格\n",
        "    out = []\n",
        "    for i, char in enumerate(text):\n",
        "      if i > 0 and no_space(char, text[i-1]):\n",
        "        out.append(' ' + char)\n",
        "      else:\n",
        "        out.append(char)\n",
        "    return ''.join(out)\n",
        "\n",
        "# text = preprocess_nmt(raw_text)\n",
        "# print(text[:80])\n"
      ],
      "execution_count": null,
      "outputs": []
    },
    {
      "cell_type": "code",
      "metadata": {
        "id": "D29F6vNPzCov"
      },
      "source": [
        "# 将文本转换token，并且给定num_examples指定学习text中的多少行\n",
        "def tokenize_nmt(text, num_examples=None):\n",
        "    \"\"\"标记化“英语－法语”数据数据集。\"\"\"\n",
        "    source, target = [], []\n",
        "    for i, line in enumerate(text.split('\\n')):\n",
        "        if num_examples and i > num_examples:\n",
        "            break\n",
        "        parts = line.split('\\t')\n",
        "        if len(parts) == 2:\n",
        "            source.append(parts[0].split(' '))\n",
        "            target.append(parts[1].split(' '))\n",
        "    return source, target\n",
        "\n",
        "# 生成词汇表\n",
        "src_vocab = d2l.Vocab(source, min_freq=2,\n",
        "                      reserved_tokens=['<pad>', '<bos>', '<eos>'])\n",
        "\n",
        "tar_vocab = d2l.Vocab(target, min_freq=2,\n",
        "                      reserved_tokens=['<pad>', '<bos>', '<eos>'])"
      ],
      "execution_count": 3,
      "outputs": []
    },
    {
      "cell_type": "code",
      "metadata": {
        "id": "mjBJNqFq5-1d"
      },
      "source": [
        "def truncate_pad(line, num_steps, padding_token):\n",
        "    \"\"\"Truncate or pad sequences.\"\"\"\n",
        "    if len(line) > num_steps:\n",
        "        return line[:num_steps]  # Truncate\n",
        "    return line + [padding_token] * (num_steps - len(line))  # Pad\n",
        "\n",
        "# 实际上就是生成当前文本的tensor表示，并且填充每一行成为固定num_steps，统计每行初填充符以外包含了多少实际的token\n",
        "def build_array_nmt(lines, vocab, num_steps):  # lines 实际上就是list，它或者是source 或者是 target\n",
        "    \"\"\"将机器翻译的文本序列转换成小批量。\"\"\"\n",
        "    lines = [vocab[l] for l in lines]   # 把source转成了index的方式保存\n",
        "    lines = [l + [vocab['<eos>']] for l in lines]\n",
        "    array = torch.tensor([\n",
        "        truncate_pad(l, num_steps, vocab['<pad>']) for l in lines])\n",
        "    valid_len = (array != vocab['<pad>']).type(torch.int32).sum(1)\n",
        "    return array, valid_len # array实际上是一个num_examples * num_steps 的矩阵，valid_len实际是一维的长度为num_examples的tensor"
      ],
      "execution_count": 7,
      "outputs": []
    },
    {
      "cell_type": "code",
      "metadata": {
        "id": "-0WGnOUs-L2c"
      },
      "source": [
        "def load_data_nmt(batch_size, num_steps, num_examples=600):\n",
        "    \"\"\"返回翻译数据集的迭代器和词汇表。\"\"\"\n",
        "    text = preprocess_nmt(read_data_nmt())\n",
        "    source, target = tokenize_nmt(text, num_examples)\n",
        "    src_vocab = d2l.Vocab(source, min_freq=2,\n",
        "                          reserved_tokens=['<pad>', '<bos>', '<eos>'])\n",
        "    tgt_vocab = d2l.Vocab(target, min_freq=2,\n",
        "                          reserved_tokens=['<pad>', '<bos>', '<eos>'])\n",
        "    src_array, src_valid_len = build_array_nmt(source, src_vocab, num_steps)  # 行数为source的行数，列数为num_steps\n",
        "    tgt_array, tgt_valid_len = build_array_nmt(target, tgt_vocab, num_steps) # 行数为target的行数，列数为num_steps, src_array 和 tar_array两个tensor的维度完全相同\n",
        "    data_arrays = (src_array, src_valid_len, tgt_array, tgt_valid_len)\n",
        "    data_iter = d2l.load_array(data_arrays, batch_size)\n",
        "    return data_iter, src_vocab, tgt_vocab\n",
        "    \n",
        "# 测试代码\n",
        "# train_iter, src_vocab, tgt_vocab = load_data_nmt(batch_size=2, num_steps=8)\n",
        "# for X, X_valid_len, Y, Y_valid_len in train_iter:\n",
        "#     print('X:', X.type(torch.int32))\n",
        "#     print('valid lengths for X:', X_valid_len)\n",
        "#     print('Y:', Y.type(torch.int32))\n",
        "#     print('valid lengths for Y:', Y_valid_len)\n",
        "#     break"
      ],
      "execution_count": null,
      "outputs": []
    },
    {
      "cell_type": "markdown",
      "metadata": {
        "id": "S2zZM7l3MMds"
      },
      "source": [
        "**2. Encoder-Decoder模型**"
      ]
    },
    {
      "cell_type": "code",
      "metadata": {
        "id": "86tc6EmWMVgZ"
      },
      "source": [
        "import collections\n",
        "import math\n",
        "import torch\n",
        "from torch import nn\n",
        "from d2l import torch as d2l"
      ],
      "execution_count": 9,
      "outputs": []
    },
    {
      "cell_type": "code",
      "metadata": {
        "id": "CGwiCV5-N40A"
      },
      "source": [
        "class Seq2SeqEncoder(nn.Module):\n",
        "    \"\"\"用于序列到序列学习的循环神经网络编码器。\"\"\"\n",
        "    def __init__(self, vocab_size, embed_size, num_hiddens, num_layers,\n",
        "                 dropout=0):\n",
        "        super(Seq2SeqEncoder, self).__init__()\n",
        "        # 嵌入层\n",
        "        self.embedding = nn.Embedding(vocab_size, embed_size)  # word embedding\n",
        "        self.rnn = nn.GRU(embed_size, num_hiddens, num_layers,\n",
        "                          dropout=dropout)\n",
        "    def forward(self, X):\n",
        "        # 输出'X'的形状：(`batch_size`, `num_steps`, `embed_size`)\n",
        "        X = self.embedding(X)\n",
        "        # 在循环神经网络模型中，第一个轴对应于时间步\n",
        "        X = X.permute(1, 0, 2)\n",
        "        output, state = self.rnn(X)   # GRU的H0参数默认是0，参考GRU的forward https://pytorch.org/docs/stable/generated/torch.nn.GRU.html\n",
        "        # `output`的形状: (`num_steps`, `batch_size`, `num_hiddens`)\n",
        "        # `state`的形状: (`num_layers`, `batch_size`, `num_hiddens`)\n",
        "        return output, state"
      ],
      "execution_count": 11,
      "outputs": []
    },
    {
      "cell_type": "code",
      "metadata": {
        "id": "mr9hmE7xW56N"
      },
      "source": [
        "class Seq2SeqDecoder(nn.Module):\n",
        "    \"\"\"用于序列到序列学习的循环神经网络解码器。\"\"\"\n",
        "    def __init__(self, vocab_size, embed_size, num_hiddens, num_layers,\n",
        "                 dropout=0):\n",
        "        super(Seq2SeqDecoder, self).__init__()\n",
        "        self.embedding = nn.Embedding(vocab_size, embed_size)\n",
        "        self.rnn = nn.GRU(embed_size + num_hiddens, num_hiddens, num_layers,\n",
        "                          dropout=dropout)\n",
        "        self.dense = nn.Linear(num_hiddens, vocab_size)  # 全连接层\n",
        "\n",
        "    def forward(self, X, state):  # state的形状为: ('num_layers', 'batch_size, 'num_hiddens'')\n",
        "        # 输出'X'的形状：(`num_steps`, `batch_size`, `embed_size`)\n",
        "        X = self.embedding(X).permute(1, 0, 2)\n",
        "        # 广播 `context`，使其具有与`X`相同的 `num_steps`\n",
        "        context = state[-1].repeat(X.shape[0], 1, 1) # 这里去state[-1]实际上是拿到了多层RNN最后一层的state，state[-1] 为batch_size * num_hiddens矩阵，然后在0维度上重复，最终得到num_steps * batch_size * num_hiddens的矩阵\n",
        "        X_and_context = torch.cat((X, context), 2)  #然后在第2个维度上concat， X_and_context 的维度是 num_steps * batch_size * (embed_size + num_hiddens)\n",
        "        output, state = self.rnn(X_and_context, state)  # 将concat后的X和state输入即可,output的维度 num_steps * batch_size * num_hiddens\n",
        "        output = self.dense(output) # 全连接层 后得到的output: num_steps * batch_size * vocab_size\n",
        "        output = output.permute(1, 0, 2) \n",
        "        # `output`的形状: (`batch_size`, `num_steps`, `vocab_size`)\n",
        "        # `state`的形状: (`num_layers`, `batch_size`, `num_hiddens`)\n",
        "        return output, state"
      ],
      "execution_count": 12,
      "outputs": []
    },
    {
      "cell_type": "code",
      "metadata": {
        "id": "MoaNUfQOU23e"
      },
      "source": [
        "class EncoderDecoder(nn.Module):\n",
        "    \"\"\"编码器-解码器结构的基类。\"\"\"\n",
        "    def __init__(self, encoder, decoder):\n",
        "        super(EncoderDecoder, self).__init__()\n",
        "        self.encoder = encoder\n",
        "        self.decoder = decoder\n",
        "\n",
        "    def forward(self, enc_X, dec_X):\n",
        "       _, state = self.encoder(enc_X)\n",
        "       return self.decoder(dec_X, state)"
      ],
      "execution_count": 13,
      "outputs": []
    },
    {
      "cell_type": "code",
      "metadata": {
        "id": "X7o98GcmnBtK"
      },
      "source": [
        "def sequence_mask(X, valid_len, value=0):\n",
        "    \"\"\"在序列中屏蔽不相关的项。\"\"\"\n",
        "    maxlen = X.size(1)\n",
        "    mask = torch.arange((maxlen), dtype=torch.float32,\n",
        "                        device=X.device)[None, :] < valid_len[:, None]\n",
        "    X[~mask] = value\n",
        "    return X\n",
        "    \n",
        "class MaskedSoftmaxCELoss(nn.CrossEntropyLoss):\n",
        "    \"\"\"带屏蔽的 softmax 交叉熵损失函数\"\"\"\n",
        "    # `pred` 的形状：(`batch_size`, `num_steps`, `vocab_size`)\n",
        "    # `label` 的形状：(`batch_size`, `num_steps`)\n",
        "    # `valid_len` 的形状：(`batch_size`,)\n",
        "    def forward(self, pred, label, valid_len):\n",
        "        weights = torch.ones_like(label)\n",
        "        weights = sequence_mask(weights, valid_len)\n",
        "        self.reduction = 'none'\n",
        "        unweighted_loss = super(MaskedSoftmaxCELoss,\n",
        "                                self).forward(pred.permute(0, 2, 1), label)   # CrossEntropyLoss在使用时，一定要注意看文档对输入的要求：https://pytorch.org/docs/stable/generated/torch.nn.CrossEntropyLoss.html\n",
        "        weighted_loss = (unweighted_loss * weights).mean(dim=1)\n",
        "        return weighted_loss # 得到一个batch的一组loss，loss为一维的长度为batch_size的tensor"
      ],
      "execution_count": 14,
      "outputs": []
    },
    {
      "cell_type": "code",
      "metadata": {
        "id": "nSsrJIM4ZFoj"
      },
      "source": [
        "def train_seq2seq(net, data_iter, lr, num_epochs, tgt_vocab, device):\n",
        "    \"\"\"训练序列到序列模型。\"\"\"\n",
        "    def xavier_init_weights(m):\n",
        "        if type(m) == nn.Linear:\n",
        "            nn.init.xavier_uniform_(m.weight)\n",
        "        if type(m) == nn.GRU:\n",
        "            for param in m._flat_weights_names:\n",
        "                if \"weight\" in param:\n",
        "                    nn.init.xavier_uniform_(m._parameters[param])\n",
        "    net.apply(xavier_init_weights)\n",
        "    net.to(device)\n",
        "    optimizer = torch.optim.Adam(net.parameters(), lr=lr)\n",
        "    loss = MaskedSoftmaxCELoss()   # 这里调用的是CrossEntropyLoss的__init__\n",
        "    net.train()\n",
        "    animator = d2l.Animator(xlabel='epoch', ylabel='loss',\n",
        "                            xlim=[10, num_epochs])\n",
        "    for epoch in range(num_epochs):\n",
        "        timer = d2l.Timer()\n",
        "        metric = d2l.Accumulator(2)  # 训练损失总和，标记数量\n",
        "        for batch in data_iter:\n",
        "            X, X_valid_len, Y, Y_valid_len = [x.to(device) for x in batch]\n",
        "            # 拼接decoder的输入\n",
        "            bos = torch.tensor([tgt_vocab['<bos>']] * Y.shape[0],\n",
        "                               device=device).reshape(-1, 1)  # bos = batch_size * 1的矩阵              \n",
        "            dec_input = torch.cat([bos, Y[:, :-1]], 1) \n",
        "\n",
        "            Y_hat, _ = net(X, dec_input)\n",
        "            l = loss(Y_hat, Y, Y_valid_len)   # 调用MaskedSoftmaxCELoss的forward的方法\n",
        "            optimizer.zero_grad()  \n",
        "            l.sum().backward()  # 损失函数的标量进行“反传”\n",
        "            d2l.grad_clipping(net, 1)   # 梯度裁剪\n",
        "            num_tokens = Y_valid_len.sum()\n",
        "            optimizer.step()  # 更新权重\n",
        "            with torch.no_grad():\n",
        "                metric.add(l.sum(), num_tokens)\n",
        "        if (epoch + 1) % 10 == 0:\n",
        "            animator.add(epoch + 1, (metric[0] / metric[1],))\n",
        "    print(f'loss {metric[0] / metric[1]:.3f}, {metric[1] / timer.stop():.1f} '\n",
        "          f'tokens/sec on {str(device)}')"
      ],
      "execution_count": 15,
      "outputs": []
    },
    {
      "cell_type": "code",
      "metadata": {
        "id": "Lx_j2Se4ZJDF"
      },
      "source": [
        "embed_size, num_hiddens, num_layers, dropout = 32, 32, 2, 0.1\n",
        "batch_size, num_steps = 64, 100\n",
        "lr, num_epochs, device = 0.005, 300, d2l.try_gpu()\n",
        "\n",
        "train_iter, src_vocab, tgt_vocab = d2l.load_data_nmt(batch_size, num_steps)\n",
        "encoder = Seq2SeqEncoder(len(src_vocab), embed_size, num_hiddens, num_layers,\n",
        "                         dropout)\n",
        "decoder = Seq2SeqDecoder(len(tgt_vocab), embed_size, num_hiddens, num_layers,\n",
        "                         dropout)\n",
        "net = EncoderDecoder(encoder, decoder)\n",
        "train_seq2seq(net, train_iter, lr, num_epochs, tgt_vocab, device)"
      ],
      "execution_count": null,
      "outputs": []
    },
    {
      "cell_type": "markdown",
      "metadata": {
        "id": "VCkeY34NbwQ8"
      },
      "source": [
        "**预测**"
      ]
    },
    {
      "cell_type": "code",
      "metadata": {
        "id": "iF4hcXdUbuU9"
      },
      "source": [
        "def predict_seq2seq(net, src_sentence, src_vocab, tgt_vocab, num_steps,\n",
        "                    device, save_attention_weights=False):\n",
        "    \"\"\"序列到序列模型的预测\"\"\"\n",
        "    # 在预测时将`net`设置为评估模式\n",
        "    net.eval()\n",
        "    src_tokens = src_vocab[src_sentence.lower().split(' ')] + [\n",
        "        src_vocab['<eos>']]\n",
        "    enc_valid_len = torch.tensor([len(src_tokens)], device=device)\n",
        "    src_tokens = truncate_pad(src_tokens, num_steps, src_vocab['<pad>'])\n",
        "    # 添加批量轴\n",
        "    enc_X = torch.unsqueeze(\n",
        "        torch.tensor(src_tokens, dtype=torch.long, device=device), dim=0)\n",
        "    _, dec_state = net.encoder(enc_X)\n",
        "    # 添加批量轴\n",
        "    dec_X = torch.unsqueeze(\n",
        "        torch.tensor([tgt_vocab['<bos>']], dtype=torch.long, device=device),\n",
        "        dim=0)\n",
        "    output_seq, attention_weight_seq = [], []\n",
        "    for _ in range(num_steps):\n",
        "        Y, dec_state = net.decoder(dec_X, dec_state)\n",
        "        # 我们使用具有预测最高可能性的标记，作为解码器在下一时间步的输入\n",
        "        dec_X = Y.argmax(dim=2)\n",
        "        pred = dec_X.squeeze(dim=0).type(torch.int32).item()\n",
        "        # 保存注意力权重（稍后讨论）\n",
        "        if save_attention_weights:\n",
        "            attention_weight_seq.append(net.decoder.attention_weights)\n",
        "        # 一旦序列结束标记被预测，输出序列的生成就完成了\n",
        "        if pred == tgt_vocab['<eos>']:\n",
        "            break\n",
        "        output_seq.append(pred)\n",
        "    return ' '.join(tgt_vocab.to_tokens(output_seq)), attention_weight_seq"
      ],
      "execution_count": 23,
      "outputs": []
    },
    {
      "cell_type": "code",
      "metadata": {
        "id": "_XMIRe-ecA7v"
      },
      "source": [
        "def bleu(pred_seq, label_seq, k):\n",
        "    \"\"\"计算 BLEU\"\"\"\n",
        "    pred_tokens, label_tokens = pred_seq.split(' '), label_seq.split(' ')\n",
        "    len_pred, len_label = len(pred_tokens), len(label_tokens)\n",
        "    score = math.exp(min(0, 1 - len_label / len_pred))\n",
        "    for n in range(1, k + 1):\n",
        "        num_matches, label_subs = 0, collections.defaultdict(int)\n",
        "        for i in range(len_label - n + 1):\n",
        "            label_subs[''.join(label_tokens[i:i + n])] += 1\n",
        "        for i in range(len_pred - n + 1):\n",
        "            if label_subs[''.join(pred_tokens[i:i + n])] > 0:\n",
        "                num_matches += 1\n",
        "                label_subs[''.join(pred_tokens[i:i + n])] -= 1\n",
        "        score *= math.pow(num_matches / (len_pred - n + 1), math.pow(0.5, n))\n",
        "    return score"
      ],
      "execution_count": 24,
      "outputs": []
    },
    {
      "cell_type": "code",
      "metadata": {
        "id": "EXyW_BYicDuw"
      },
      "source": [
        "engs = ['go .', \"i lost .\", 'he\\'s calm .', 'i\\'m home .']\n",
        "fras = ['va !', 'j\\'ai perdu .', 'il est calme .', 'je suis chez moi .']\n",
        "for eng, fra in zip(engs, fras):\n",
        "    translation, attention_weight_seq = predict_seq2seq(\n",
        "        net, eng, src_vocab, tgt_vocab, num_steps, device)\n",
        "    print(f'{eng} => {translation}, bleu {bleu(translation, fra, k=2):.3f}')"
      ],
      "execution_count": null,
      "outputs": []
    }
  ]
}