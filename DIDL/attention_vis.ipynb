{
  "nbformat": 4,
  "nbformat_minor": 0,
  "metadata": {
    "colab": {
      "name": "Untitled2.ipynb",
      "provenance": [],
      "collapsed_sections": []
    },
    "kernelspec": {
      "name": "python3",
      "display_name": "Python 3"
    },
    "language_info": {
      "name": "python"
    }
  },
  "cells": [
    {
      "cell_type": "code",
      "metadata": {
        "id": "6YdmgDUqcqVN"
      },
      "source": [
        "!pip install d2l"
      ],
      "execution_count": 8,
      "outputs": []
    },
    {
      "cell_type": "code",
      "metadata": {
        "id": "IgUF2t9xc-93"
      },
      "source": [
        "def show_heatmaps(matrices, xlabel, ylabel, titles=None, figsize=(2.5, 2.5),\n",
        "                  cmap='Reds'):\n",
        "    d2l.use_svg_display()\n",
        "    num_rows, num_cols = matrices.shape[0], matrices.shape[1]\n",
        "    fig, axes = d2l.plt.subplots(num_rows, num_cols, figsize=figsize,\n",
        "                                 sharex=True, sharey=True, squeeze=False)\n",
        "    for i, (row_axes, row_matrices) in enumerate(zip(axes, matrices)):\n",
        "        for j, (ax, matrix) in enumerate(zip(row_axes, row_matrices)):\n",
        "            pcm = ax.imshow(matrix.detach().numpy(), cmap=cmap)\n",
        "            if i == num_rows - 1:\n",
        "                ax.set_xlabel(xlabel)\n",
        "            if j == 0:\n",
        "                ax.set_ylabel(ylabel)\n",
        "            if titles:\n",
        "                ax.set_title(titles[j])\n",
        "    fig.colorbar(pcm, ax=axes, shrink=0.6);"
      ],
      "execution_count": 11,
      "outputs": []
    },
    {
      "cell_type": "code",
      "metadata": {
        "id": "3fhHWNGabm90"
      },
      "source": [
        "import torch\n",
        "import torch.nn as nn\n",
        "import torch.nn.functional as F\n",
        "from d2l import torch as d2l\n",
        "\n",
        "attention_weight = torch.randn((10, 10))\n",
        "attention_weight = F.softmax(attention_weight, dim = 1)\n",
        "\n",
        "attention_weight_softmax =attention_weight.reshape((1, 1, 10, 10))\n",
        "show_heatmaps(attention_weight_softmax, xlabel='Keys', ylabel='Queries')"
      ],
      "execution_count": null,
      "outputs": []
    }
  ]
}