{
  "nbformat": 4,
  "nbformat_minor": 0,
  "metadata": {
    "colab": {
      "name": "LSTM.ipynb",
      "provenance": []
    },
    "kernelspec": {
      "name": "python3",
      "display_name": "Python 3"
    },
    "language_info": {
      "name": "python"
    }
  },
  "cells": [
    {
      "cell_type": "code",
      "metadata": {
        "id": "vHdplUJFZL2t"
      },
      "source": [
        "!pip install d2l"
      ],
      "execution_count": null,
      "outputs": []
    },
    {
      "cell_type": "code",
      "metadata": {
        "id": "JCNnQya6Gi03"
      },
      "source": [
        "import torch\n",
        "from torch import nn\n",
        "from d2l import torch as d2l\n",
        "\n",
        "batch_size, num_steps = 32, 35\n",
        "train_iter, vocab = d2l.load_data_time_machine(batch_size, num_steps)"
      ],
      "execution_count": null,
      "outputs": []
    },
    {
      "cell_type": "code",
      "metadata": {
        "id": "TdIRmVLCHEGG"
      },
      "source": [
        "def get_lstm_params(vocab_size, num_hiddens, device):\n",
        "    num_inputs = num_outputs = vocab_size\n",
        "\n",
        "    def normal(shape):\n",
        "        return torch.randn(size=shape, device=device) * 0.01\n",
        "\n",
        "    def three():\n",
        "        return (normal(\n",
        "            (num_inputs, num_hiddens)), normal((num_hiddens, num_hiddens)),\n",
        "                torch.zeros(num_hiddens, device=device))\n",
        "\n",
        "    W_xi, W_hi, b_i = three()  # input gate\n",
        "    W_xf, W_hf, b_f = three()  # forget gate\n",
        "    W_xo, W_ho, b_o = three()  # output gate，控制memory cell\n",
        "    W_xc, W_hc, b_c = three() # memory cell\n",
        "    # 输出层参数\n",
        "    W_hq = normal((num_hiddens, num_outputs))\n",
        "    b_q = torch.zeros(num_outputs, device=device)\n",
        "    # 附加梯度\n",
        "    params = [\n",
        "        W_xi, W_hi, b_i, W_xf, W_hf, b_f, W_xo, W_ho, b_o, W_xc, W_hc, b_c,\n",
        "        W_hq, b_q]\n",
        "    for param in params:\n",
        "        param.requires_grad_(True)\n",
        "    return params"
      ],
      "execution_count": 4,
      "outputs": []
    },
    {
      "cell_type": "code",
      "metadata": {
        "id": "NqsS3_GrHhT9"
      },
      "source": [
        "def init_lstm_state(batch_size, num_hiddens, device):\n",
        "    return (torch.zeros((batch_size, num_hiddens), device=device),\n",
        "            torch.zeros((batch_size, num_hiddens), device=device))"
      ],
      "execution_count": 5,
      "outputs": []
    },
    {
      "cell_type": "code",
      "metadata": {
        "id": "nLZTW8f_HpwC"
      },
      "source": [
        "def lstm(inputs, state, params):\n",
        "    [\n",
        "        W_xi, W_hi, b_i, W_xf, W_hf, b_f, W_xo, W_ho, b_o, W_xc, W_hc, b_c,\n",
        "        W_hq, b_q] = params\n",
        "    (H, C) = state\n",
        "    outputs = []\n",
        "    for X in inputs:\n",
        "        I = torch.sigmoid((X @ W_xi) + (H @ W_hi) + b_i)\n",
        "        F = torch.sigmoid((X @ W_xf) + (H @ W_hf) + b_f)\n",
        "        O = torch.sigmoid((X @ W_xo) + (H @ W_ho) + b_o)\n",
        "        C_tilda = torch.tanh((X @ W_xc) + (H @ W_hc) + b_c)\n",
        "        C = F * C + I * C_tilda\n",
        "        H = O * torch.tanh(C)\n",
        "        Y = (H @ W_hq) + b_q\n",
        "        outputs.append(Y)\n",
        "    return torch.cat(outputs, dim=0), (H, C)"
      ],
      "execution_count": 6,
      "outputs": []
    },
    {
      "cell_type": "code",
      "metadata": {
        "id": "Esri41DfIvUV"
      },
      "source": [
        "vocab_size, num_hiddens, device = len(vocab), 256, d2l.try_gpu()\n",
        "num_epochs, lr = 500, 1\n",
        "model = d2l.RNNModelScratch(len(vocab), num_hiddens, device, get_lstm_params,\n",
        "                            init_lstm_state, lstm)\n",
        "d2l.train_ch8(model, train_iter, vocab, lr, num_epochs, device)"
      ],
      "execution_count": null,
      "outputs": []
    }
  ]
}