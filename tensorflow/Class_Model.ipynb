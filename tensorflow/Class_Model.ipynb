{
  "nbformat": 4,
  "nbformat_minor": 0,
  "metadata": {
    "colab": {
      "name": "Class_Model.ipynb",
      "provenance": [],
      "collapsed_sections": []
    },
    "kernelspec": {
      "name": "python3",
      "display_name": "Python 3"
    },
    "language_info": {
      "name": "python"
    }
  },
  "cells": [
    {
      "cell_type": "markdown",
      "metadata": {
        "id": "iV9rroQETG_I"
      },
      "source": [
        "**tensorflow**\n",
        "\n"
      ]
    },
    {
      "cell_type": "code",
      "metadata": {
        "id": "gcMdg-FjrlIt"
      },
      "source": [
        "import tensorflow as tf\n",
        "import tensorflow.keras as keras\n",
        "from tensorflow.keras import Input, layers, Model\n",
        "\n",
        "print(tf.__version__)\n",
        "print(tf.keras.__version__)"
      ],
      "execution_count": null,
      "outputs": []
    },
    {
      "cell_type": "code",
      "metadata": {
        "id": "N5tow1DD0BBl"
      },
      "source": [
        "# model = tf.keras.Sequential()\n",
        "# model.add(layers.Dense(32, activation='relu'))\n",
        "# model.add(layers.Dense(32, activation='relu'))\n",
        "# model.add(layers.Dense(10, activation='softmax'))\n",
        "\n",
        "# model.compile(optimizer=tf.keras.optimizers.Adam(0.001),\n",
        "#              loss=tf.keras.losses.categorical_crossentropy,\n",
        "#              metrics=[tf.keras.metrics.categorical_accuracy])\n",
        "\n",
        "class CustomModel(tf.keras.Model):\n",
        "    def __init__(self, num_classes):\n",
        "        super(CustomModel, self).__init__()\n",
        "        self.num_classes = num_classes\n",
        "        # 定义网络层\n",
        "        self.layer0 = layers.Dense(32, activation='relu', input_shape=(72,))   # layer0和layer1实际上不同，它们背后包含的矩阵不同\n",
        "        self.layer1 = layers.Dense(32, activation='relu')\n",
        "        self.layer2 = layers.Dense(num_classes, activation='softmax')\n",
        "    def call(self, inputs):\n",
        "        # 定义前向传播\n",
        "        h1 = self.layer0(inputs)\n",
        "        h2 = self.layer1(h1)\n",
        "        output = self.layer2(h2)\n",
        "        return output\n",
        "    def summary(self):\n",
        "        x = Input(shape=(72,))\n",
        "        model = Model(inputs=[x], outputs=self.call(x))\n",
        "        return model.summary()"
      ],
      "execution_count": 85,
      "outputs": []
    },
    {
      "cell_type": "code",
      "metadata": {
        "id": "uDjA1m1h0Iy6"
      },
      "source": [
        "import numpy as np\n",
        "\n",
        "train_x = np.random.random((1000, 72))\n",
        "train_y = np.random.random((1000,10))\n",
        "\n",
        "val_x = np.random.random((200, 72))\n",
        "val_y = np.random.random((200,10))\n",
        "\n",
        "model = CustomModel(10)\n",
        "\n",
        "model.compile(optimizer=tf.keras.optimizers.Adam(0.001),\n",
        "             loss=tf.keras.losses.categorical_crossentropy,\n",
        "             metrics=[tf.keras.metrics.categorical_accuracy])\n",
        "model.summary()\n",
        "# keras.utils.plot_model(model, 'mnist_model.png')\n",
        "# keras.utils.plot_model(model, 'model_info.png', show_shapes=True)"
      ],
      "execution_count": null,
      "outputs": []
    },
    {
      "cell_type": "code",
      "metadata": {
        "id": "gejZaq0pbwic"
      },
      "source": [
        "model.fit(train_x, train_y, epochs=10, batch_size=100,\n",
        "          validation_data=(val_x, val_y))\n",
        "\n",
        "model.summary()\n",
        "# keras.utils.plot_model(model, 'mnist_model.png')\n",
        "# keras.utils.plot_model(model, 'model_info.png', show_shapes=True)"
      ],
      "execution_count": null,
      "outputs": []
    },
    {
      "cell_type": "code",
      "metadata": {
        "id": "XnLAQgT0XB4E"
      },
      "source": [
        "test_x = np.random.random((1000, 72))\n",
        "test_y = np.random.random((1000, 10))\n",
        "model.evaluate(test_x, test_y, batch_size=32)\n",
        "test_data = tf.data.Dataset.from_tensor_slices((test_x, test_y))\n",
        "test_data = test_data.batch(32).repeat()\n",
        "model.evaluate(test_data, steps=30)"
      ],
      "execution_count": null,
      "outputs": []
    },
    {
      "cell_type": "markdown",
      "metadata": {
        "id": "6MY57_YO6ypk"
      },
      "source": [
        "**pytorch**"
      ]
    },
    {
      "cell_type": "code",
      "metadata": {
        "id": "Ezy5Xw4FUTRB"
      },
      "source": [
        "!pip install torchmetrics"
      ],
      "execution_count": null,
      "outputs": []
    },
    {
      "cell_type": "code",
      "metadata": {
        "id": "Y8zUpJQl2r7w"
      },
      "source": [
        "import torch\n",
        "import torch.nn as nn\n",
        "import torchmetrics\n",
        "import random\n",
        "from torch.utils.data import Dataset\n",
        "from torch.utils.data import DataLoader\n",
        "import numpy as np\n",
        "print(torch.__version__)"
      ],
      "execution_count": null,
      "outputs": []
    },
    {
      "cell_type": "code",
      "metadata": {
        "id": "aJR8l7rr3X_4"
      },
      "source": [
        "# net = nn.Sequential(nn.Linear(72, 32), nn.ReLU(), nn.Linear(32, 32), nn.ReLU(), nn.Linear(32, 10)) \n",
        "\n",
        "class Net(nn.Module):\n",
        "    def __init__(self):\n",
        "        super().__init__()\n",
        "        self.layer0 = nn.Linear(72, 32)\n",
        "        self.layer1 = nn.Linear(32, 32)\n",
        "        self.layer2 = nn.Linear(32, 10)\n",
        "        self.actf = nn.ReLU()\n",
        "    def forward(self, inputs):\n",
        "        h1 = self.layer0(inputs)\n",
        "        h2 = self.layer1(h1)\n",
        "        h3 = self.layer2(h2)\n",
        "        pred = self.actf(h3)\n",
        "        return pred\n",
        "\n",
        "# 如何读到一条数据\n",
        "class CustomDataSet(Dataset):\n",
        "    def __init__(self, x, y, transform=None, target_transform=None):\n",
        "         self.features = x\n",
        "         self.labels = y\n",
        "\n",
        "    def __len__(self):\n",
        "         return len(self.features)\n",
        "\n",
        "    def __getitem__(self, idx):\n",
        "         #  self.features = torch.autograd.Variable(self.features, requires_grad = False)\n",
        "         #  self.features= self.features.data\n",
        "\n",
        "         # 上述两行的替代方法为self.features.detach_()， 也就是将数据的梯度信息去掉\n",
        "         self.features.detach_()\n",
        "         return self.features[idx], self.labels[idx]\n"
      ],
      "execution_count": null,
      "outputs": []
    },
    {
      "cell_type": "code",
      "metadata": {
        "id": "MWQuREZ6385I"
      },
      "source": [
        "net = Net()\n",
        "loss = nn.CrossEntropyLoss()\n",
        "\n",
        "optim =  torch.optim.Adam(net.parameters(), lr=0.001)\n",
        "\n",
        "# 准备数据\n",
        "train_x = torch.rand((1000, 72), requires_grad=True)\n",
        "# train_x = torch.rand((1000, 72))  # 如果train_x不追踪梯度，则self.features = torch.autograd.Variable(self.features, requires_grad = False) 和 self.features= self.features.data可以去掉\n",
        "train_y = torch.empty(1000, dtype=torch.long).random_(10)\n",
        "\n",
        "val_x = torch.rand((200, 72))\n",
        "val_y = torch.empty(200, dtype=torch.long).random_(10)\n",
        "\n",
        "# 如何以batch形式读到数据\n",
        "dataset = CustomDataSet(train_x, train_y)\n",
        "train_dataloader = DataLoader(dataset = dataset, batch_size=100, shuffle=True, num_workers=2)\n",
        "\n",
        "num_epochs = 10\n",
        "metric = torchmetrics.Accuracy()\n",
        "\n",
        "if __name__ == '__main__':\n",
        "  for epoch in range(num_epochs):\n",
        "    # for X, y in train_dataloader:\n",
        "    for i, data in enumerate(train_dataloader, 0):  # 上下两个循环等价\n",
        "      X, y = data  # 如果采用上一行循环，注释掉该句\n",
        "      y_hat = net(X)\n",
        "      l = loss(y_hat, y)\n",
        "      optim.zero_grad()\n",
        "      l.backward()\n",
        "      # print(net[0].weight.grad)\n",
        "      optim.step()\n",
        "      acc = metric(y_hat.softmax(dim = -1), y)\n",
        "    print(f\"loss {l.detach().item()}, accracy {acc.detach().item()}. \")"
      ],
      "execution_count": null,
      "outputs": []
    },
    {
      "cell_type": "code",
      "metadata": {
        "id": "9kUGiHpGXF20"
      },
      "source": [
        "test_x = torch.rand((1000, 72))\n",
        "test_y = torch.empty(1000, dtype=torch.long).random_(10)\n",
        "\n",
        "num_epochs = 10\n",
        "for epoch in range(num_epochs):\n",
        "  test_y_hat = net(test_x)\n",
        "  acc = metric(test_y_hat.softmax(dim = -1), test_y)\n",
        "  print(f\"accracy {acc.detach().item()}. \")"
      ],
      "execution_count": null,
      "outputs": []
    }
  ]
}