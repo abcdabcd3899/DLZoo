{
  "nbformat": 4,
  "nbformat_minor": 0,
  "metadata": {
    "colab": {
      "name": "tf-pytorch-comparison.ipynb",
      "provenance": [],
      "collapsed_sections": []
    },
    "kernelspec": {
      "name": "python3",
      "display_name": "Python 3"
    },
    "language_info": {
      "name": "python"
    }
  },
  "cells": [
    {
      "cell_type": "markdown",
      "metadata": {
        "id": "iV9rroQETG_I"
      },
      "source": [
        "**tensorflow**\n",
        "\n"
      ]
    },
    {
      "cell_type": "code",
      "metadata": {
        "id": "gcMdg-FjrlIt"
      },
      "source": [
        "import tensorflow as tf\n",
        "from tensorflow.keras import layers\n",
        "print(tf.__version__)\n",
        "print(tf.keras.__version__)"
      ],
      "execution_count": null,
      "outputs": []
    },
    {
      "cell_type": "code",
      "metadata": {
        "id": "N5tow1DD0BBl"
      },
      "source": [
        "model = tf.keras.Sequential()\n",
        "model.add(layers.Dense(32, activation='relu'))\n",
        "model.add(layers.Dense(32, activation='relu'))\n",
        "model.add(layers.Dense(10, activation='softmax'))\n",
        "\n",
        "model.compile(optimizer=tf.keras.optimizers.Adam(0.001),\n",
        "             loss=tf.keras.losses.categorical_crossentropy,\n",
        "             metrics=[tf.keras.metrics.categorical_accuracy])"
      ],
      "execution_count": 70,
      "outputs": []
    },
    {
      "cell_type": "code",
      "metadata": {
        "id": "uDjA1m1h0Iy6"
      },
      "source": [
        "import numpy as np\n",
        "\n",
        "train_x = np.random.random((1000, 72))\n",
        "train_y = np.random.random((1000,10))\n",
        "\n",
        "val_x = np.random.random((200, 72))\n",
        "val_y = np.random.random((200,10))\n",
        "\n",
        "model.fit(train_x, train_y, epochs=10, batch_size=100,\n",
        "          validation_data=(val_x, val_y))\n",
        "model.summary()"
      ],
      "execution_count": null,
      "outputs": []
    },
    {
      "cell_type": "code",
      "metadata": {
        "id": "XnLAQgT0XB4E"
      },
      "source": [
        "test_x = np.random.random((1000, 72))\n",
        "test_y = np.random.random((1000, 10))\n",
        "model.evaluate(test_x, test_y, batch_size=32)\n",
        "test_data = tf.data.Dataset.from_tensor_slices((test_x, test_y))\n",
        "test_data = test_data.batch(32).repeat()\n",
        "model.evaluate(test_data, steps=30)"
      ],
      "execution_count": null,
      "outputs": []
    },
    {
      "cell_type": "markdown",
      "metadata": {
        "id": "6MY57_YO6ypk"
      },
      "source": [
        "**pytorch**"
      ]
    },
    {
      "cell_type": "code",
      "metadata": {
        "id": "Ezy5Xw4FUTRB"
      },
      "source": [
        "!pip install torchmetrics"
      ],
      "execution_count": null,
      "outputs": []
    },
    {
      "cell_type": "code",
      "metadata": {
        "id": "Y8zUpJQl2r7w"
      },
      "source": [
        "import torch\n",
        "import torch.nn as nn\n",
        "import torchmetrics\n",
        "print(torch.__version__)"
      ],
      "execution_count": null,
      "outputs": []
    },
    {
      "cell_type": "code",
      "metadata": {
        "id": "aJR8l7rr3X_4"
      },
      "source": [
        "net = nn.Sequential(nn.Linear(72, 32), nn.ReLU(), nn.Linear(32, 32), nn.ReLU(), nn.Linear(32, 10)) \n",
        "\n",
        "def accuracy(y_hat, y):\n",
        "    if len(y_hat.shape) > 1 and y_hat.shape[1] > 1:\n",
        "        y_hat = y_hat.argmax(axis=1)  # 1维的包含n个（n为样本总数）分量的tensor\n",
        "    cmp = y_hat.type(y.dtype) == y  # 1维的包含n个分量的tensor，并且每个分量的值都为True或者False\n",
        "    return float(cmp.type(y.dtype).sum())  # 在这里实际上需要将True和False转成对应的1和0，因此，我们执行cmp.type(y.dtype)，将True或者false转成1或者0\n",
        "\n",
        "def data_iter(batch_size, features, labels):\n",
        "  num_examples = len(features)\n",
        "  indices = list(range(num_examples))\n",
        "  random.shuffle(indices)\n",
        "  for i in range(0, num_examples, batch_size):\n",
        "    batch_indices = torch.tensor(indices[i:min(i+batch_size, num_examples)])\n",
        "    yield features[batch_indices], labels[batch_indices]"
      ],
      "execution_count": 76,
      "outputs": []
    },
    {
      "cell_type": "code",
      "metadata": {
        "id": "MWQuREZ6385I"
      },
      "source": [
        "batch_size = 100\n",
        "\n",
        "loss = nn.CrossEntropyLoss()\n",
        "\n",
        "optim =  torch.optim.Adam(net.parameters(), lr=0.001)\n",
        "\n",
        "# 准备数据\n",
        "train_x = torch.rand((1000, 72), requires_grad=True)\n",
        "train_y = torch.empty(1000, dtype=torch.long).random_(10)\n",
        "\n",
        "val_x = torch.rand((200, 72))\n",
        "val_y = torch.empty(200, dtype=torch.long).random_(10)\n",
        "\n",
        "num_epochs = 10\n",
        "metric = torchmetrics.Accuracy()\n",
        "for epoch in range(num_epochs):\n",
        "  for X, y in data_iter(batch_size, train_x, train_y): \n",
        "    y_hat = net(X)\n",
        "    l = loss(y_hat, y)\n",
        "    optim.zero_grad()\n",
        "    l.backward()\n",
        "    # print(net[0].weight.grad)\n",
        "    optim.step()\n",
        "    acc = metric(y_hat.softmax(dim = -1), y)\n",
        "  print(f\"loss {l.detach().item()}, accracy {acc.detach().item()}. \")"
      ],
      "execution_count": null,
      "outputs": []
    },
    {
      "cell_type": "code",
      "metadata": {
        "id": "9kUGiHpGXF20"
      },
      "source": [
        "test_x = torch.rand((1000, 72))\n",
        "test_y = torch.empty(1000, dtype=torch.long).random_(10)\n",
        "\n",
        "num_epochs = 10\n",
        "for epoch in range(num_epochs):\n",
        "  test_y_hat = net(test_x)\n",
        "  acc = metric(test_y_hat.softmax(dim = -1), test_y)\n",
        "  print(f\"accracy {acc.detach().item()}. \")"
      ],
      "execution_count": null,
      "outputs": []
    }
  ]
}