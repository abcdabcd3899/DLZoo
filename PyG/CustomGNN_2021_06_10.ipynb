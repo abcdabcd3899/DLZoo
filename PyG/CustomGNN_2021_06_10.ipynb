{
  "nbformat": 4,
  "nbformat_minor": 0,
  "metadata": {
    "accelerator": "GPU",
    "colab": {
      "name": "CustomGNN-2021-06-10.ipynb",
      "provenance": [],
      "collapsed_sections": []
    },
    "kernelspec": {
      "display_name": "Python 3",
      "name": "python3"
    },
    "language_info": {
      "name": "python"
    }
  },
  "cells": [
    {
      "cell_type": "markdown",
      "metadata": {
        "id": "rMfV2HM74u_S"
      },
      "source": [
        "1.   安装pytorch geometric"
      ]
    },
    {
      "cell_type": "code",
      "metadata": {
        "id": "SxnlNtxNfv3G"
      },
      "source": [
        "# !pip uninstall torch torch-scatter torch-sparse torch-spline-conv torch-geometric\n",
        "!pip install torch==1.7.1+cu110 torchvision==0.8.2+cu110  torchaudio===0.7.2 torchtext==0.8.1 -f https://download.pytorch.org/whl/torch_stable.html\n",
        "!pip install torch-scatter -f https://pytorch-geometric.com/whl/torch-1.7.1+cu110.html\n",
        "!pip install torch-sparse -f https://pytorch-geometric.com/whl/torch-1.7.1+cu110.html\n",
        "!pip install torch-cluster -f https://pytorch-geometric.com/whl/torch-1.7.1+cu110.html\n",
        "!pip install torch-spline-conv -f https://pytorch-geometric.com/whl/torch-1.7.1+cu110.html\n",
        "!pip install torch-geometric \n",
        "!pip install tensorboardX\n",
        "!wget https://bin.equinox.io/c/4VmDzA7iaHb/ngrok-stable-linux-amd64.zip\n",
        "!unzip ngrok-stable-linux-amd64.zip"
      ],
      "execution_count": null,
      "outputs": []
    },
    {
      "cell_type": "markdown",
      "metadata": {
        "id": "Mms8yFLX4huF"
      },
      "source": [
        "2. 导入需要的包"
      ]
    },
    {
      "cell_type": "code",
      "metadata": {
        "id": "gNTJiC-NMqMa"
      },
      "source": [
        "import torch\n",
        "import torch.nn as nn\n",
        "import torch.nn.functional as F\n",
        "\n",
        "import torch_geometric.nn as pyg_nn\n",
        "import torch_geometric.utils as pyg_utils\n",
        "\n",
        "import time\n",
        "from datetime import datetime\n",
        "\n",
        "import networkx as nx\n",
        "import numpy as np\n",
        "import torch\n",
        "import torch.optim as optim\n",
        "\n",
        "from torch_geometric.datasets import TUDataset\n",
        "from torch_geometric.datasets import Planetoid\n",
        "\n",
        "# 增加实验所使用的数据集\n",
        "from torch_geometric.datasets import Flickr\n",
        "from torch_geometric.datasets import Reddit2\n",
        "\n",
        "from torch_geometric.data import DataLoader\n",
        "\n",
        "import torch_geometric.transforms as T\n",
        "\n",
        "from tensorboardX import SummaryWriter\n",
        "from sklearn.manifold import TSNE\n",
        "import matplotlib.pyplot as plt\n"
      ],
      "execution_count": null,
      "outputs": []
    },
    {
      "cell_type": "markdown",
      "metadata": {
        "id": "Heqdzmia46b-"
      },
      "source": [
        "3. 定义三层GNN模型 "
      ]
    },
    {
      "cell_type": "code",
      "metadata": {
        "id": "SSQmTgCykOi1"
      },
      "source": [
        "class GNNStack(nn.Module):\n",
        "    def __init__(self, input_dim, hidden_dim, output_dim, task='node'):\n",
        "        super(GNNStack, self).__init__()\n",
        "        self.task = task\n",
        "        \n",
        "        # 其实这里可以定义一个pre-message-passing 将输入从input_size变换成hidden_size\n",
        "        self.pre_mlp = nn.Sequential(\n",
        "            nn.Linear(input_dim, hidden_dim),\n",
        "            nn.Dropout(0.25),\n",
        "            nn.Linear(hidden_dim, hidden_dim)\n",
        "        )\n",
        "\n",
        "        self.convs = nn.ModuleList()\n",
        "        # self.convs.append(self.build_conv_model(input_dim, hidden_dim))  # 第一层卷积层\n",
        "        self.lns = nn.ModuleList()\n",
        "        for i in range(2):\n",
        "          self.lns.append(nn.LayerNorm(hidden_dim))  # Layer Norm\n",
        "        self.bns = nn.ModuleList()\n",
        "        for i in range(3):\n",
        "          self.bns.append(pyg_nn.BatchNorm(hidden_dim))   # 每层中都增加一个batch norm\n",
        "        # for l in range(2):  # 第二层和第三层卷积层\n",
        "        #     self.convs.append(self.build_conv_model(hidden_dim, hidden_dim))\n",
        "        for l in range(3):  # 定义三层卷积层\n",
        "             self.convs.append(self.build_conv_model(hidden_dim, hidden_dim))\n",
        "\n",
        "        # post-message-passing  最后一个卷积层结束后，经过一个多层感知机模型\n",
        "        self.post_mp = nn.Sequential(\n",
        "            nn.Linear(hidden_dim, hidden_dim), nn.Dropout(0.25), \n",
        "            nn.Linear(hidden_dim, output_dim))\n",
        "        if not (self.task == 'node' or self.task == 'graph'):\n",
        "            raise RuntimeError('Unknown task.')\n",
        "\n",
        "        self.dropout = 0.25\n",
        "        self.num_layers = 3  # 在真实的应用中，这些参数都应该为用户自定义超参数\n",
        "\n",
        "    def build_conv_model(self, input_dim, hidden_dim):\n",
        "        # refer to pytorch geometric nn module for different implementation of GNNs.\n",
        "        if self.task == 'node':\n",
        "            return CustomConv(input_dim, hidden_dim)  # 用户自定义图神经网络\n",
        "        else:  # 如果是graph 任务，当前最好的图神经网络为GIN\n",
        "            return pyg_nn.GINConv(nn.Sequential(nn.Linear(input_dim, hidden_dim),\n",
        "                                  nn.ReLU(), nn.Linear(hidden_dim, hidden_dim)))\n",
        "\n",
        "    def forward(self, data):  # 定义整个图神经网络计算图\n",
        "        x, edge_index, batch = data.x, data.edge_index, data.batch\n",
        "        x = self.pre_mlp(x)  # 开始前调用pre-message-passing函数\n",
        "        if data.num_node_features == 0:\n",
        "          x = torch.ones(data.num_nodes, 1)  # 如果初始时，没有给节点分配特征，则初始化每个节点的特征向量为常数1\n",
        "        \n",
        "        for i in range(self.num_layers):\n",
        "            x = self.convs[i](x, edge_index)  # 调用GNN的forward方法，forward会通过propagate传递来的参数分别启动message和update函数\n",
        "            emb = x\n",
        "            x = self.bns[i](x) # 增加batch_norm层\n",
        "            x = F.dropout(x, p=self.dropout, training=self.training)  # 做了dropout\n",
        "            pyg_utils.dropout_adj(edge_index, p = self.dropout)  # 每一层都随机dropout一些边，需要做实验看这一不分是否有必要\n",
        "            x = F.leaky_relu(x)  # 使用leaky_relu激活函数，这里的激活函数可以考虑换成F.prelu\n",
        "            if not i == self.num_layers - 1:  # 除了最后一层之外，其它层都做了layer norm\n",
        "                x = self.lns[i](x)\n",
        "\n",
        "        if self.task == 'graph':\n",
        "            x = pyg_nn.global_mean_pool(x, batch)  # 得到整个图的一个feature， 问题：为什么这里要以batch为单位？这实际上与训练方法有关，可以参见训练过程的代码，明白是如何调用该forward方法的\n",
        "\n",
        "        x = self.post_mp(x)  #调用后post-message-passing\n",
        "\n",
        "        return emb, F.log_softmax(x, dim=1)\n",
        "\n",
        "    def loss(self, pred, label):\n",
        "        return F.nll_loss(pred, label)"
      ],
      "execution_count": null,
      "outputs": []
    },
    {
      "cell_type": "markdown",
      "metadata": {
        "id": "ZUZK0QcGZvyI"
      },
      "source": [
        "4. 自定义图卷积层（单层实现）"
      ]
    },
    {
      "cell_type": "markdown",
      "metadata": {
        "id": "vlCrjOufTEz_"
      },
      "source": [
        "4.1 增加self_loop从零实现"
      ]
    },
    {
      "cell_type": "code",
      "metadata": {
        "id": "DmDrqEca6_ZG"
      },
      "source": [
        "# 这是下文中pyb_utils.add_self_loop的从零实现过程，内容本身很简单\n",
        "def add_self_loop(edge_index, num_nodes=None):\n",
        "    loop_index = torch.arange(0, num_nodes, dtype = torch.long, device = edge_index.device)   # 一维tensor, [0, 1, ..., num_nodes-1]\n",
        "    loop_index = torch.unsqueeze(loop_index, dim = 0).repeat(2, 1)  #首先变成1*num_nodes的矩阵，即[[0,1,..., num_nodes-1]], 然后调用repeat函数，在dim=0维度上复制2次，得到[[0, 1, ..., num_node-1],[0, 1, ..., num_node-1]],在dim=1维度上复制一次，即保持不变\n",
        "    edge_index = torch.cat([edge_index, loop_index], dim = 1)  # 在dim=1维度上将原先的edge_index和现在的loop_index concat到一起，最终得到增加了自循环的edge_index，它被作为返回值返回给foward函数\n",
        "    return edge_index"
      ],
      "execution_count": null,
      "outputs": []
    },
    {
      "cell_type": "markdown",
      "metadata": {
        "id": "5BZ7qyWVTHeP"
      },
      "source": [
        "4.2 单层图卷积网络定义"
      ]
    },
    {
      "cell_type": "code",
      "metadata": {
        "id": "1qLIU2IfWgAs"
      },
      "source": [
        "class CustomConv(pyg_nn.MessagePassing):\n",
        "    def __init__(self, in_channels, out_channels):\n",
        "        super(CustomConv, self).__init__(aggr='add')  # 聚集函数使用 \"Add\"，表达能力比min、max、mean等强\n",
        "        self.lin = nn.Linear(in_channels, out_channels)\n",
        "        self.lin_self = nn.Linear(in_channels, out_channels)\n",
        "\n",
        "    def forward(self, x, edge_index):   # 自定义图卷积层，给出这一层的计算图\n",
        "        # x has shape [N, in_channels]\n",
        "        # edge_index has shape [2, E]\n",
        "      \n",
        "        # A' = A + I\n",
        "        # D ** (-1/2) A' D ** (-z1/2)\n",
        "        # edge_index, _ = pyg_utils.add_self_loops(edge_index, num_nodes = x.size(0))    # 增加self_loop到edge_index中\n",
        "        edge_index = add_self_loop(edge_index, x.size(dim = 0))   # 增加self_loop到edge_index中\n",
        "        # edge_index, _ = pyg_utils.remove_self_loops(edge_index)    # 移除self_loop\n",
        "        \n",
        "        # Transform node feature matrix.\n",
        "        # x = self.lin(x)\n",
        "        self_x = self.lin_self(x)  # 将输入转换成为消息\n",
        "        # print(\"x: \", x)  # 跑实验时需要注释掉改行代码 \n",
        "        print(\"self_x: \", self_x)  # 跑实验时需要注释掉改行代码 \n",
        "        # return self.propagate(edge_index, x = x)\n",
        "        return self_x +  self.propagate(edge_index, x = self_x)  # skip connection\n",
        "\n",
        "    def message(self,x,  x_i,  x_j, edge_index):\n",
        "        # x_j has shape [E, out_channels]  # x_j is neighborhood embeddings,  x_i is yourself embeddings\n",
        "        print(\"x_i: \", x_i)  # 跑实验时需要注释掉改行代码\n",
        "        row, col = edge_index # 因为edge_index 为[2, num_edges]，所以这个tensor包含两行，row为edge_index的第一行，col为edge_index的第二行\n",
        "        deg = pyg_utils.degree(col, x.size(0), dtype=x_j.dtype)   # 这里的返回值实际上是调用了torch.scatter\n",
        "        print(\"degree: \", deg)  # 跑实验时需要注释掉改行代码\n",
        "        deg_inv_sqrt = deg.pow(-0.5)\n",
        "        deg_inv_sqrt[deg_inv_sqrt == float('inf')] = 0  #  这一句很重要，如果去掉，norm将出现inf,后续的计算也将会是inf\n",
        "        norm = deg_inv_sqrt[row] * deg_inv_sqrt[col]\n",
        "        print(\"norm: \", norm)  # 跑实验时需要注释掉改行代码\n",
        "        print(\"x_j: \", x_j)  # 跑实验时需要注释掉改行代码\n",
        "        out = norm.view(-1, 1) * x_j\n",
        "        print(\"norm*x_j: \", out)   # 跑实验时需要注释掉改行代码\n",
        "        return out\n",
        "\n",
        "    def update(self, aggr_out):  # 这里实际上可以通过多层感知机处理aggr_out，最终的输出会经过aggr='add'\n",
        "        # aggr_out has shape [N, out_channels]\n",
        "        return aggr_out"
      ],
      "execution_count": null,
      "outputs": []
    },
    {
      "cell_type": "markdown",
      "metadata": {
        "id": "revSBi-YZ3h0"
      },
      "source": [
        "4.3 简单测试CustomConv层的行为，主要是为了用简单的数据确定输出形状"
      ]
    },
    {
      "cell_type": "code",
      "metadata": {
        "id": "_VEG-hpWR3pv"
      },
      "source": [
        "# 在真实运行测试用例时，需要注释掉这段代码\n",
        "edge_index = torch.tensor([[1,2,3], [0,0,0]], dtype=torch.long)\n",
        "x = torch.tensor([[1], [1], [1], [1]], dtype=torch.float)\n",
        "conv = CustomConv(1, 2)\n",
        "y = conv(x, edge_index)\n",
        "print(\"y: \", y)"
      ],
      "execution_count": null,
      "outputs": []
    },
    {
      "cell_type": "markdown",
      "metadata": {
        "id": "Fa5gICos70oB"
      },
      "source": [
        "5. 训练"
      ]
    },
    {
      "cell_type": "code",
      "metadata": {
        "id": "hHNjUfEO7zaA"
      },
      "source": [
        "def train(dataset, task, writer):\n",
        "    if task == 'graph':\n",
        "        data_size = len(dataset)\n",
        "        loader = DataLoader(dataset[:int(data_size * 0.8)], batch_size=64, shuffle=True)\n",
        "        test_loader = DataLoader(dataset[int(data_size * 0.8):], batch_size=64, shuffle=True)\n",
        "    else:\n",
        "        test_loader = loader = DataLoader(dataset, batch_size=64, shuffle=True)\n",
        "\n",
        "    # build model\n",
        "    model = GNNStack(max(dataset.num_node_features, 1), 32, dataset.num_classes, task=task)  # 调用GNNStack类的__init__方法\n",
        "    opt = optim.Adam(model.parameters(), lr=0.01)\n",
        "    \n",
        "    # train\n",
        "    for epoch in range(200):\n",
        "        total_loss = 0\n",
        "        model.train()\n",
        "        for batch in loader:\n",
        "            #print(batch.train_mask, '----')\n",
        "            opt.zero_grad()\n",
        "            embedding, pred = model(batch)  # 调用forward方法，这个过程决定了task='graph'时，global_mean_pooling(x,batch)的参数\n",
        "            label = batch.y\n",
        "            if task == 'node':\n",
        "                pred = pred[batch.train_mask]\n",
        "                label = label[batch.train_mask]\n",
        "            loss = model.loss(pred, label)\n",
        "            loss.backward()\n",
        "            opt.step()\n",
        "            total_loss += loss.item() * batch.num_graphs\n",
        "        total_loss /= len(loader.dataset)\n",
        "        writer.add_scalar(\"loss\", total_loss, epoch)\n",
        "\n",
        "        if epoch % 10 == 0:\n",
        "            test_acc = test(test_loader, model)\n",
        "            print(\"Epoch {}. Loss: {:.4f}. Test accuracy: {:.4f}\".format(\n",
        "                epoch, total_loss, test_acc))\n",
        "            writer.add_scalar(\"test accuracy\", test_acc, epoch)\n",
        "\n",
        "    return model\n"
      ],
      "execution_count": null,
      "outputs": []
    },
    {
      "cell_type": "markdown",
      "metadata": {
        "id": "Puesci_n8QLS"
      },
      "source": [
        "6. 测试"
      ]
    },
    {
      "cell_type": "code",
      "metadata": {
        "id": "5SxsTni98RY9"
      },
      "source": [
        "def test(loader, model, is_validation=False):\n",
        "    model.eval()\n",
        "\n",
        "    correct = 0\n",
        "    for data in loader:\n",
        "        with torch.no_grad():\n",
        "            emb, pred = model(data)\n",
        "            pred = pred.argmax(dim=1)\n",
        "            label = data.y\n",
        "\n",
        "        if model.task == 'node':\n",
        "            mask = data.val_mask if is_validation else data.test_mask\n",
        "            # node classification: only evaluate on nodes in test set\n",
        "            pred = pred[mask]\n",
        "            label = data.y[mask]\n",
        "            \n",
        "        correct += pred.eq(label).sum().item()\n",
        "    \n",
        "    if model.task == 'graph':\n",
        "        total = len(loader.dataset) \n",
        "    else:\n",
        "        total = 0\n",
        "        for data in loader.dataset:\n",
        "            total += torch.sum(data.test_mask).item()\n",
        "    return correct / total"
      ],
      "execution_count": null,
      "outputs": []
    },
    {
      "cell_type": "markdown",
      "metadata": {
        "id": "XO80DXMq8Trc"
      },
      "source": [
        "7. 训练模型，并使用tensorboardX可视化loss和accuracy"
      ]
    },
    {
      "cell_type": "code",
      "metadata": {
        "colab": {
          "base_uri": "https://localhost:8080/"
        },
        "id": "XqXjd3ks8dpf",
        "outputId": "8659eee2-9928-4934-b052-58d0568b4c43"
      },
      "source": [
        "LOG_DIR = './log'\n",
        "get_ipython().system_raw(\n",
        "    'tensorboard --logdir {} --host 0.0.0.0 --port 6006 &'\n",
        "    .format(LOG_DIR)\n",
        ")\n",
        "get_ipython().system_raw('./ngrok http 6006 &')\n",
        "! curl -s http://localhost:4040/api/tunnels | python3 -c \\\n",
        "    \"import sys, json; print(json.load(sys.stdin)['tunnels'][0]['public_url'])\""
      ],
      "execution_count": null,
      "outputs": [
        {
          "output_type": "stream",
          "text": [
            "Traceback (most recent call last):\n",
            "  File \"<string>\", line 1, in <module>\n",
            "IndexError: list index out of range\n"
          ],
          "name": "stdout"
        }
      ]
    },
    {
      "cell_type": "code",
      "metadata": {
        "id": "4OdF6dLI8yKa"
      },
      "source": [
        "writer = SummaryWriter(\"./log/\" + datetime.now().strftime(\"%Y%m%d-%H%M%S\"))\n",
        "\n",
        "dataset = TUDataset(root='/tmp/ENZYMES', name='ENZYMES')   # 只能做task = 'graph'任务\n",
        "# dataset = Flickr(root='/tmp/FLICKR')\n",
        "# dataset = Reddit2(root='/tmp/Reddit2')\n",
        "dataset = dataset.shuffle()\n",
        "task = 'graph'\n",
        "model = train(dataset, task, writer)"
      ],
      "execution_count": null,
      "outputs": []
    },
    {
      "cell_type": "markdown",
      "metadata": {
        "id": "xbjTe9NQJ77b"
      },
      "source": [
        "8. 学习出的embeddings可视化"
      ]
    },
    {
      "cell_type": "code",
      "metadata": {
        "id": "NkERkQPdxFBz"
      },
      "source": [
        "# tsne clustering in 2-d， 该数据只适用于task='graph'类的数据集，其他数据集不适用\n",
        "color_list = [\"red\", \"orange\", \"green\", \"blue\", \"purple\", \"brown\"]\n",
        "loader = DataLoader(dataset, batch_size=64, shuffle=True)\n",
        "embs = []\n",
        "colors = []\n",
        "for batch in loader:\n",
        "    emb, pred = model(batch)\n",
        "    embs.append(emb)\n",
        "    colors += [color_list[y] for y in batch.y]\n",
        "embs = torch.cat(embs, dim=0)\n",
        "\n",
        "xs, ys = zip(*TSNE().fit_transform(embs.detach().numpy()))\n",
        "plt.scatter(xs[:600], ys[:600], color=np.squeeze(colors))"
      ],
      "execution_count": null,
      "outputs": []
    },
    {
      "cell_type": "code",
      "metadata": {
        "id": "Wz72iZ0PAUAY"
      },
      "source": [
        "%reload_ext tensorboard\n",
        "%tensorboard --logdir './log'"
      ],
      "execution_count": null,
      "outputs": []
    },
    {
      "cell_type": "markdown",
      "metadata": {
        "id": "6M6ITBUcBnLe"
      },
      "source": [
        "9. 在不同数据集上测试模型"
      ]
    },
    {
      "cell_type": "code",
      "metadata": {
        "id": "q-aV3M7fBZ5_"
      },
      "source": [
        "writer = SummaryWriter(\"./log\" + datetime.now().strftime(\"%Y%m%d-%H%M%S\"))\n",
        "\n",
        "dataset = Planetoid(root='/tmp/cora', name='cora')\n",
        "task = 'node'\n",
        "\n",
        "model = train(dataset, task, writer)\n",
        "\n",
        "\n",
        "# tsne clustering in 2-d\n",
        "color_list = [\"red\", \"orange\", \"green\", \"blue\", \"purple\", \"brown\"]\n",
        "loader = DataLoader(dataset, batch_size=64, shuffle=True)\n",
        "embs = []\n",
        "colors = []\n",
        "for batch in loader:\n",
        "    emb, pred = model(batch)\n",
        "    embs.append(emb)\n",
        "    colors += [color_list[y] for y in batch.y]\n",
        "embs = torch.cat(embs, dim=0)\n",
        "\n",
        "xs, ys = zip(*TSNE().fit_transform(embs.detach().numpy()))\n",
        "plt.scatter(xs, ys, color=colors)"
      ],
      "execution_count": null,
      "outputs": []
    }
  ]
}