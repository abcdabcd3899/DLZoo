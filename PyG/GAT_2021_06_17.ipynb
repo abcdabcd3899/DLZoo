{
  "nbformat": 4,
  "nbformat_minor": 0,
  "metadata": {
    "colab": {
      "name": "GAT-2021-06-17.ipynb",
      "provenance": [],
      "collapsed_sections": []
    },
    "kernelspec": {
      "name": "python3",
      "display_name": "Python 3"
    },
    "language_info": {
      "name": "python"
    },
    "accelerator": "GPU"
  },
  "cells": [
    {
      "cell_type": "markdown",
      "metadata": {
        "id": "PKSU_EFhLLC-"
      },
      "source": [
        "1. 安装pytorch geometric"
      ]
    },
    {
      "cell_type": "code",
      "metadata": {
        "id": "94vSzhoeJ-ZY"
      },
      "source": [
        "# !pip uninstall torch torch-scatter torch-sparse torch-spline-conv torch-geometric\n",
        "!pip install torch==1.7.1+cu110 torchvision==0.8.2+cu110  torchaudio===0.7.2 torchtext==0.8.1 -f https://download.pytorch.org/whl/torch_stable.html\n",
        "!pip install torch-scatter -f https://pytorch-geometric.com/whl/torch-1.7.1+cu110.html\n",
        "!pip install torch-sparse -f https://pytorch-geometric.com/whl/torch-1.7.1+cu110.html\n",
        "!pip install torch-cluster -f https://pytorch-geometric.com/whl/torch-1.7.1+cu110.html\n",
        "!pip install torch-spline-conv -f https://pytorch-geometric.com/whl/torch-1.7.1+cu110.html\n",
        "!pip install torch-geometric \n",
        "!pip install tensorboardX\n",
        "!wget https://bin.equinox.io/c/4VmDzA7iaHb/ngrok-stable-linux-amd64.zip\n",
        "!unzip ngrok-stable-linux-amd64.zip"
      ],
      "execution_count": null,
      "outputs": []
    },
    {
      "cell_type": "markdown",
      "metadata": {
        "id": "bFfnzLEW5VnT"
      },
      "source": [
        "2. 导入需要的包"
      ]
    },
    {
      "cell_type": "code",
      "metadata": {
        "id": "P-iH9SpkLne8"
      },
      "source": [
        "import torch\n",
        "import torch.nn as nn\n",
        "import torch.nn.functional as F\n",
        "\n",
        "import torch_geometric.nn as pyg_nn\n",
        "import torch_geometric.utils as pyg_utils\n",
        "\n",
        "import time\n",
        "from datetime import datetime\n",
        "import math\n",
        "\n",
        "import networkx as nx\n",
        "import numpy as np\n",
        "import torch\n",
        "import torch.optim as optim\n",
        "\n",
        "from torch_geometric.datasets import TUDataset\n",
        "from torch_geometric.datasets import Planetoid\n",
        "\n",
        "# 增加实验所使用的数据集\n",
        "from torch_geometric.datasets import Flickr\n",
        "from torch_geometric.datasets import Reddit2\n",
        "\n",
        "from torch_geometric.data import DataLoader\n",
        "\n",
        "import torch_geometric.transforms as T\n",
        "\n",
        "from tensorboardX import SummaryWriter\n",
        "from sklearn.manifold import TSNE\n",
        "import matplotlib.pyplot as plt"
      ],
      "execution_count": 29,
      "outputs": []
    },
    {
      "cell_type": "markdown",
      "metadata": {
        "id": "ct6l25Ka6eTX"
      },
      "source": [
        "3. 自定义GAT层"
      ]
    },
    {
      "cell_type": "code",
      "metadata": {
        "id": "H5QTT1LiLp9n"
      },
      "source": [
        "class GATSelf(pyg_nn.MessagePassing):\n",
        "    def __init__(self,in_features,out_featrues):\n",
        "        super(GATSelf,self).__init__(aggr='add')  # aggregation function\n",
        "        self.a = nn.Parameter(torch.zeros(size=(2*out_featrues, 1)))\n",
        "        nn.init.xavier_uniform_(self.a.data, gain=1.414)  # 初始化\n",
        "        self.linear=nn.Linear(in_features,out_featrues)\n",
        "    def forward(self,x,edge_index):\n",
        "        x=self.linear(x)\n",
        "        N=x.size()[0]\n",
        "        row, col=edge_index\n",
        "        a_input = torch.cat([x[row], x[col]], dim=1)\n",
        "        print('a_input.size',a_input.size())\n",
        "        # [N, N, 1] => [N, N] 图注意力的相关系数（未归一化）\n",
        "        temp=torch.mm(a_input,self.a).squeeze()\n",
        "        print('temp.size',temp.size())\n",
        "        e = F.leaky_relu(temp)\n",
        "        print('e',e)\n",
        "        print('e.size', e.size())\n",
        "        #e_all为同一个节点与其全部邻居的计算的分数的和，用于计算归一化softmax\n",
        "        e_all=torch.zeros(x.size()[0])\n",
        "        count = 0\n",
        "        for i in col:\n",
        "            e_all[i]+=e[count]\n",
        "            count=count+1\n",
        "        print('e_all',e_all)\n",
        "\n",
        "        for i in range(len(e)):\n",
        "            e[i]=math.exp(e[i])/math.exp(e_all[col[i]])\n",
        "        print('attention',e)\n",
        "        print('attention.size',e.size())\n",
        "\n",
        "        return self.propagate(edge_index,x=x,norm=e)\n",
        "\n",
        "    def message(self, x_j, norm):\n",
        "        print('x_j:', x_j)\n",
        "        print('x_j.size', x_j.size())\n",
        "        print('norm', norm)\n",
        "        print('norm.size', norm.size())\n",
        "        print('norm.view.size', norm.view(-1, 1).size())\n",
        "        return norm.view(-1, 1) * x_j\n",
        "\n",
        "\n",
        "    def update(self, aggr_out):\n",
        "         return aggr_out"
      ],
      "execution_count": 33,
      "outputs": []
    },
    {
      "cell_type": "markdown",
      "metadata": {
        "id": "cc4hT60Y6hoU"
      },
      "source": [
        "4. 组装GAT"
      ]
    },
    {
      "cell_type": "code",
      "metadata": {
        "id": "2IE57-Rw55_o"
      },
      "source": [
        "class Net(nn.Module):\n",
        "    def __init__(self):\n",
        "        super(Net, self).__init__()\n",
        "        self.gat = GATSelf(dataset.num_node_features,16)\n",
        "\n",
        "    def forward(self, data):\n",
        "        x, edge_index = data.x, data.edge_index\n",
        "        x = F.dropout(x, training=self.training)\n",
        "        x = self.gat(x, edge_index)\n",
        "        print('x_gat',x.size())\n",
        "        return F.log_softmax(x, dim=1)"
      ],
      "execution_count": 34,
      "outputs": []
    },
    {
      "cell_type": "markdown",
      "metadata": {
        "id": "4H6tWWyO6sxT"
      },
      "source": [
        "5.训练与测试"
      ]
    },
    {
      "cell_type": "code",
      "metadata": {
        "id": "XhUmkWHp58oA"
      },
      "source": [
        "dataset = Planetoid(root='Cora', name='Cora')\n",
        "\n",
        "model=Net()\n",
        "data=dataset[0]\n",
        "out=Net()(data)\n",
        "optimizer = torch.optim.Adam(model.parameters(), lr=0.01, weight_decay=5e-4)\n",
        "model.train()\n",
        "for epoch in range(100):\n",
        "    optimizer.zero_grad()\n",
        "    out = model(data)\n",
        "    loss = F.nll_loss(out[data.train_mask], data.y[data.train_mask])\n",
        "    loss.backward()\n",
        "    optimizer.step()\n",
        "\n",
        "model.eval()\n",
        "_, pred = model(data).max(dim=1)\n",
        "correct = int(pred[data.test_mask].eq(data.y[data.test_mask]).sum().item())\n",
        "acc = correct/int(data.test_mask.sum())\n",
        "print('Accuracy:{:.4f}'.format(acc))"
      ],
      "execution_count": null,
      "outputs": []
    }
  ]
}